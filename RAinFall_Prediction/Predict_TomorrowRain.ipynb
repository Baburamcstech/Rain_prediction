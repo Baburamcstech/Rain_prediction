{
 "cells": [
  {
   "cell_type": "code",
   "execution_count": 2,
   "id": "831096fa",
   "metadata": {},
   "outputs": [],
   "source": [
    "import numpy as np\n",
    "import pandas as pd\n",
    "import csv\n",
    "import matplotlib.pyplot as plt"
   ]
  },
  {
   "cell_type": "markdown",
   "id": "927127fb",
   "metadata": {},
   "source": [
    "# importin input in X and output in Y\n",
    "## convert 1D list to 2D list\n",
    "## data.iloc[:,[0,1,2,...,]].values slicing the string i.e. selecting that columns"
   ]
  },
  {
   "cell_type": "code",
   "execution_count": 23,
   "id": "cf5b05a0",
   "metadata": {},
   "outputs": [
    {
     "name": "stdout",
     "output_type": "stream",
     "text": [
      "[['ANDAMAN And NICOBAR ISLANDS' 'NICOBAR' 107.3 ... 540.7 1207.2 892.1]\n",
      " ['ANDAMAN And NICOBAR ISLANDS' 'SOUTH ANDAMAN' 43.7 ... 483.5 1757.2\n",
      "  705.3]\n",
      " ['ANDAMAN And NICOBAR ISLANDS' 'N & M ANDAMAN' 32.7 ... 405.6 1884.4\n",
      "  574.7]\n",
      " ...\n",
      " ['KERALA' 'PATHANAMTHITTA' 19.8 ... 553.5 1715.7 624.2]\n",
      " ['KERALA' 'WAYANAD' 4.8 ... 275.4 2632.1 332.5]\n",
      " ['LAKSHADWEEP' 'LAKSHADWEEP' 20.8 ... 232.4 998.5 333.6]]\n"
     ]
    }
   ],
   "source": [
    "data=pd.read_csv(\"district wise rainfall normal.csv\")\n",
    "X=data.iloc[:,[0,1,2,3,4,5,6,7,8,9,10,11,12,13,15,16,17,18]].values\n",
    "Y=data.iloc[:,[14]].values\n",
    "Y=Y.reshape(-1,1)\n",
    "print(X)"
   ]
  },
  {
   "cell_type": "markdown",
   "id": "05f8641c",
   "metadata": {},
   "source": [
    "# Dealing with invalid dataset\n",
    "### here SimpleImputer() function will replace NAN values with most frequent occuring value we can replace with mean values also"
   ]
  },
  {
   "cell_type": "code",
   "execution_count": 4,
   "id": "bc546344",
   "metadata": {},
   "outputs": [
    {
     "name": "stderr",
     "output_type": "stream",
     "text": [
      "C:\\ProgramData\\Anaconda3\\lib\\site-packages\\sklearn\\impute\\_base.py:49: FutureWarning: Unlike other reduction functions (e.g. `skew`, `kurtosis`), the default behavior of `mode` typically preserves the axis it acts along. In SciPy 1.11.0, this behavior will change: the default value of `keepdims` will become False, the `axis` over which the statistic is taken will be eliminated, and the value None will no longer be accepted. Set `keepdims` to True or False to avoid this warning.\n",
      "  mode = stats.mode(array)\n"
     ]
    }
   ],
   "source": [
    "import sklearn as sk\n",
    "from sklearn.impute import SimpleImputer\n",
    "imputer=SimpleImputer(missing_values=np.nan,strategy='most_frequent')\n",
    "# Y=Y.reshape(-1,1)\n",
    "# X=X.reshape(-1,1)\n",
    "# Y.fillna(Y.mean(), inplace=True)\n",
    "X=imputer.fit_transform(X)\n",
    "Y=imputer.fit_transform(Y)"
   ]
  },
  {
   "cell_type": "markdown",
   "id": "14808e5d",
   "metadata": {},
   "source": [
    "## Encoding string or char into number\n",
    "### lel=LabelEncoder() // inisialize object\n",
    "### X[:,0]=lel.fit_transform(X[:,0]) //it will transform"
   ]
  },
  {
   "cell_type": "code",
   "execution_count": 24,
   "id": "262b2b28",
   "metadata": {},
   "outputs": [
    {
     "name": "stdout",
     "output_type": "stream",
     "text": [
      "[[0 423 107.3 ... 540.7 1207.2 892.1]\n",
      " [0 553 43.7 ... 483.5 1757.2 705.3]\n",
      " [0 396 32.7 ... 405.6 1884.4 574.7]\n",
      " ...\n",
      " [17 447 19.8 ... 553.5 1715.7 624.2]\n",
      " [17 620 4.8 ... 275.4 2632.1 332.5]\n",
      " [18 341 20.8 ... 232.4 998.5 333.6]]\n"
     ]
    }
   ],
   "source": [
    "from sklearn.preprocessing import LabelEncoder\n",
    "lel=LabelEncoder() \n",
    "X[:,0]=lel.fit_transform(X[:,0]) \n",
    "\n",
    "lel2=LabelEncoder() # inisialize another  object\n",
    "X[:,1]=lel2.fit_transform(X[:,1]) \n",
    "print(X)"
   ]
  },
  {
   "cell_type": "markdown",
   "id": "eb01f7df",
   "metadata": {},
   "source": [
    "# Feature scaling"
   ]
  },
  {
   "cell_type": "code",
   "execution_count": 6,
   "id": "d78cab73",
   "metadata": {},
   "outputs": [],
   "source": [
    "from sklearn.preprocessing import StandardScaler\n",
    "sc=StandardScaler()\n",
    "X=sc.fit_transform(X)\n",
    "sc1=StandardScaler()\n",
    "Y=sc1.fit_transform(Y)\n",
    "Y=Y.ravel()"
   ]
  },
  {
   "cell_type": "markdown",
   "id": "9a33bd06",
   "metadata": {},
   "source": [
    "# Splitting Dataset into Training set and Test set"
   ]
  },
  {
   "cell_type": "code",
   "execution_count": 7,
   "id": "d4d88609",
   "metadata": {},
   "outputs": [
    {
     "name": "stdout",
     "output_type": "stream",
     "text": [
      "[ 3.64476494e+00 -6.93930732e-01 -7.68373816e-01 -8.35658912e-01\n",
      "  5.70050809e-01  2.08480056e+00 -6.43109011e-01  1.75064178e+00\n",
      " -4.57001299e-01 -4.81696361e-01 -5.78687110e-01 -1.17196509e+00\n",
      "  2.44854570e+00  2.65386068e+00 -7.73623008e-01 -6.36070321e-01\n",
      " -2.79721774e-01 -8.43532700e-01 -4.60341694e-01 -2.69223390e-01\n",
      " -4.00095287e-01 -1.07079885e+00 -8.55104782e-01 -9.24537274e-01\n",
      "  2.83850552e-01 -7.47973548e-01 -1.03310011e+00  3.74279812e-01\n",
      " -8.16332342e-01 -2.09096283e-01 -1.40737489e-01 -9.69155405e-01\n",
      " -2.85925364e-01  5.44282049e-01 -8.36136111e-01 -1.64239553e-01\n",
      " -5.36335676e-01 -6.77586657e-01 -4.96608838e-01  2.25512943e-01\n",
      " -3.64543942e-01  1.51904957e-01 -8.69420760e-01 -8.62382071e-01\n",
      " -6.40277082e-02  5.46756078e-02 -5.69023825e-01 -5.04275293e-02\n",
      "  8.98377858e-03 -4.95654439e-01 -1.91709778e-02  8.02685448e-01\n",
      " -3.04297536e-01 -6.82835849e-01  8.64093586e-02 -7.46780550e-01\n",
      " -2.42500232e-01  1.22676502e-01 -7.80542397e-01  5.74921368e+00\n",
      " -2.81988470e-01 -1.84401222e-01 -4.34453634e-01 -7.45468252e-01\n",
      " -2.37131740e-01  2.24916444e-01 -6.17220951e-01 -6.20442046e-01\n",
      "  1.73966620e+00 -5.51367453e-01  5.70050809e-01 -3.47841968e-01\n",
      "  5.26475109e-02 -1.85117021e-01  4.32140223e-01 -9.45414742e-01\n",
      " -5.88946894e-01 -2.47391524e-01 -6.09108563e-01 -7.52029742e-01\n",
      " -6.22828042e-01 -1.24901881e-02 -1.13032946e+00 -8.23848230e-01\n",
      "  5.45563079e-02 -7.74696707e-01 -1.34891798e-01  3.96111678e-01\n",
      "  5.54303233e-01  1.75064178e+00 -8.03328662e-01 -5.36812875e-01\n",
      " -5.54946447e-01 -8.01897064e-01 -5.44328764e-01  2.02431555e+00\n",
      " -2.39429704e-02 -9.16066987e-01 -7.01923819e-01 -5.92764489e-01\n",
      " -2.52402116e-01 -1.36831863e-02 -6.60407484e-01 -5.67234328e-01\n",
      " -6.87130642e-01 -6.96197428e-01 -1.84639821e-01 -7.61812327e-01\n",
      "  9.81887729e-03  5.52721068e-02 -2.52282816e-01 -5.24644294e-01\n",
      " -3.71852498e-02 -7.15643298e-01  1.45582067e-01  1.04331318e+00\n",
      " -8.43399441e-03 -7.76366904e-01 -2.27499722e-02 -1.09740271e+00\n",
      "  1.22536469e+00 -4.89570149e-01  2.33294418e+00 -2.21534731e-02\n",
      " -2.89027159e-01 -1.85474920e-01 -8.05595359e-01 -1.61853557e-01\n",
      "  3.32524877e-01 -8.41981802e-01  2.06067073e-01  7.28719563e-01\n",
      "  1.65126503e+00 -1.78436231e-01 -5.76659014e-01 -4.87303452e-01\n",
      " -7.15643298e-01  8.54222968e-01  1.20887005e-01 -2.55623211e-01\n",
      "  2.02431555e+00 -5.92048690e-01 -5.09135318e-01 -6.42663079e-02\n",
      " -2.75307681e-01  6.86726028e-01  8.78082931e-01  3.01864825e-01\n",
      " -7.15643298e-01 -9.19438650e-02 -5.84294202e-01  1.55153039e+00\n",
      "  2.19428652e-01 -1.05552847e+00 -4.01049686e-01 -7.15643298e-01\n",
      " -6.93692132e-01 -4.65829485e-01 -3.10143227e-01  7.75604390e-01\n",
      " -7.45945451e-01 -2.38801937e-01 -7.12169645e-03  5.75388033e-02\n",
      " -4.64994387e-01 -2.60872403e-01 -4.38032628e-01 -1.65909750e-01\n",
      "  2.31000734e-01  3.16658002e-01  9.31171349e-01 -1.61853557e-01\n",
      " -6.62435581e-01 -3.29708396e-01  1.53933054e-01  2.73916005e+00\n",
      " -5.12595013e-01 -3.79575719e-01 -7.70401913e-01  2.29418569e-02\n",
      " -5.50770954e-01 -7.15643298e-01 -4.89959315e-02  9.59087506e-01\n",
      "  3.20645742e+00 -4.84440257e-01  2.00773288e+00 -6.77228758e-01\n",
      " -6.37263320e-01 -5.55574214e-02  4.11947287e-02 -3.09308128e-01\n",
      "  1.37350380e-01 -6.30224631e-01 -5.65683431e-01  5.56450630e-01\n",
      " -1.67341348e-01  4.73298659e-01 -2.26275457e-01 -8.08458554e-01\n",
      "  1.66355291e+00  3.30377480e-01 -4.10116472e-01 -1.42288387e-01\n",
      " -4.93745642e-01  2.22530448e-01  5.70050809e-01  2.27401007e+00\n",
      " -3.95203995e-01  1.90796697e-01 -6.66372474e-01 -7.34731269e-01\n",
      "  2.69773174e-01  1.78261413e+00 -4.74061173e-01 -8.03328662e-01\n",
      " -7.36401466e-01 -5.98729479e-01 -4.03912881e-01 -3.48915667e-01\n",
      "  1.07048227e-01 -1.14309454e+00  4.59667213e-02 -1.78078331e-01\n",
      "  3.84897496e-01  8.15927728e-01  9.80203573e-01  8.84047922e-01\n",
      " -3.12767823e-01 -8.13469146e-01 -4.07253276e-01  3.23696691e-01\n",
      " -5.30521252e-02 -2.45602027e-01  1.47362761e+00  1.08626111e+00\n",
      " -5.21303899e-01 -7.15881898e-01 -4.50201210e-01  2.07418288e+00\n",
      " -6.42663079e-02  2.46629010e-01  8.86760550e-02  7.28719563e-01\n",
      " -5.26433791e-01 -8.25518428e-01 -8.93042123e-01 -9.29309267e-01\n",
      " -3.72656330e-01 -6.28554433e-01 -4.74299772e-01 -1.00494535e+00\n",
      "  1.35241900e+00  1.86862930e+00 -3.08830929e-01 -4.81219161e-01\n",
      "  2.04734042e+00 -4.93538310e-02 -7.54654338e-01 -2.36654541e-01\n",
      " -6.62196981e-01 -2.45363427e-01 -5.06661289e-02 -5.14981009e-01\n",
      "  2.71362989e+00  1.86470636e-02 -7.84598591e-01 -4.11309470e-01\n",
      " -6.43228310e-01 -1.16600010e+00 -2.29615852e-01 -2.81869171e-01\n",
      " -1.23936949e+00 -5.18321404e-01 -2.71640654e-02  2.35274795e+00\n",
      " -7.75054606e-01 -6.11255960e-01  2.60109889e-01 -6.45495007e-01\n",
      " -7.14092400e-01 -5.53514849e-01 -1.01281914e+00  8.04952145e-01\n",
      " -4.16439362e-01 -5.91332891e-01 -8.24444729e-01 -3.98067190e-01\n",
      "  2.22530448e-01  7.53414625e-01  2.53074327e+00 -1.74737937e-01\n",
      " -1.03882650e+00  4.73060059e-01 -1.49407459e+00 -1.17116126e-01\n",
      "  1.18158166e+00 -4.53183705e-01 -5.63774634e-01 -5.07942320e-01\n",
      " -5.17247706e-01 -9.77387092e-01 -7.35327768e-01  1.12503355e+00\n",
      " -5.58406142e-01 -3.12171324e-01 -1.02355612e+00  2.09646068e-01\n",
      " -3.76473924e-01 -2.86283264e-01  1.26795473e+00 -1.05361967e+00\n",
      " -1.23292730e+00  1.35802609e+00 -6.16266552e-01  1.44308686e+00\n",
      "  5.96862000e-02 -6.99657123e-01 -7.99630368e-01 -1.24901881e-02\n",
      " -7.15643298e-01 -8.93161423e-01 -6.44898508e-01  2.29965953e+00\n",
      " -5.70097524e-01  2.30478942e+00 -3.64066743e-01  1.79312647e-02\n",
      " -2.31882548e-01 -3.81603816e-01  5.77774029e-02 -4.18944658e-01\n",
      "  2.53906299e-01  8.71521441e-01 -3.04655435e-01 -2.46437125e-01\n",
      " -5.11521315e-01 -3.98305790e-01 -4.43281820e-01 -1.03427915e-02\n",
      " -3.28276799e-01 -4.99591333e-01 -1.18189824e-01 -2.28542153e-01\n",
      "  6.19679532e-01  1.44427985e+00  7.52221626e-01 -8.54269683e-01\n",
      " -4.51990707e-01 -1.01973853e+00 -6.34161524e-01 -4.09997172e-01\n",
      "  1.23034402e-01 -2.56458310e-01  1.20887005e-01 -4.09281373e-01\n",
      " -6.38337018e-01 -3.39133082e-01 -2.39279137e-01  5.56450630e-01\n",
      "  9.26876556e-01 -3.00718541e-01  8.74503937e-01  2.35534127e-01\n",
      "  6.86336861e-02 -1.11112219e+00  1.30481837e+00 -1.12806276e+00\n",
      " -5.28939088e-01 -9.41955047e-01  9.90690976e-04 -5.67234328e-01\n",
      "  5.02615146e-02 -4.85513955e-01  1.51666357e-01  1.62045441e-01\n",
      "  1.34621541e+00 -2.62423301e-01  3.28707283e-01 -1.39076095e+00\n",
      "  3.01864825e-01 -3.78979220e-01 -7.08962508e-01  3.73564013e-01\n",
      "  2.84296484e-02 -2.41665133e-01 -2.08857684e-01 -4.62489091e-01\n",
      " -1.18667024e-01 -3.45217372e-01 -7.89012684e-01 -3.66214140e-01\n",
      " -7.54654338e-01 -1.98478600e-01 -5.50055155e-01  1.97110784e+00\n",
      " -1.05743727e+00 -8.38402808e-01 -5.12475713e-01 -3.69077335e-01\n",
      "  2.08480056e+00 -3.81723116e-01 -2.42261632e-01 -9.57941222e-01\n",
      " -5.52679751e-01 -2.82823569e-01 -1.84520521e-01 -1.28005072e+00\n",
      " -7.13973101e-01  1.39617076e-01 -6.27957934e-01 -3.64066743e-01\n",
      "  2.89329541e+00  8.74503937e-01 -7.15643298e-01  6.84936531e-01\n",
      "  2.23297093e+00  2.50139551e+00  1.54926369e+00 -7.23786953e-02\n",
      "  2.23297093e+00  5.39598089e-02 -2.77932277e-01 -1.12463433e-01\n",
      "  2.31835833e-01 -3.79010487e-02 -1.13677165e+00  1.46178566e-01\n",
      "  1.80420740e+00 -5.30728585e-01 -6.02666373e-01 -1.28649291e+00\n",
      " -8.94385688e-02 -8.65961065e-01 -5.30132086e-01  5.36288961e-01\n",
      " -4.29562342e-01 -7.98318070e-01 -1.10646949e+00 -5.11759914e-01\n",
      " -2.38801937e-01  1.47362761e+00  5.73749103e-01  1.49161061e-01\n",
      " -1.00076986e+00 -4.90047348e-01 -1.30522298e+00 -3.83989812e-01\n",
      " -2.99525543e-01 -2.66240895e-01 -9.79088557e-02  6.00427668e+00\n",
      " -7.09797607e-01 -2.36654541e-01  1.12109665e+00 -4.99949232e-01\n",
      " -5.89662693e-01  4.54091389e-01  1.54473030e+00 -5.01380830e-01\n",
      "  8.25917645e-02 -8.69659359e-01  2.41021919e-01 -7.49047246e-01\n",
      " -4.22404353e-01 -8.63932968e-01 -3.47006870e-01  2.29965953e+00\n",
      " -9.18333684e-01 -1.07103745e+00 -9.54035596e-02  2.53444156e+00\n",
      " -7.34731269e-01  5.87229982e-01 -6.11375260e-01  3.74041213e-01\n",
      "  1.61726459e+00 -4.74657672e-01 -5.92764489e-01 -6.47435071e-02\n",
      " -1.78794130e-01 -4.17990260e-01 -2.16850771e-01 -2.69939189e-01\n",
      " -5.89185494e-01 -9.99576858e-01 -5.81669606e-01 -2.20549066e-01\n",
      " -3.24697804e-01  8.55742599e-02 -1.22515885e-02 -5.46237561e-01\n",
      "  6.68441889e-02  8.74503937e-01 -2.87476262e-01  1.77533684e+00\n",
      " -3.05729134e-01  2.11343252e+00 -5.06630022e-01  2.29321734e+00\n",
      " -7.15643298e-01 -8.43771299e-01 -5.44328764e-01 -9.17021386e-01\n",
      "  1.38248255e+00 -6.05768168e-01  8.95977904e-01  2.62093393e+00\n",
      " -1.34053573e+00 -2.63258399e-01  1.88914886e+00 -7.96170673e-01]\n"
     ]
    }
   ],
   "source": [
    "from sklearn.model_selection import train_test_split\n",
    "X_train,X_test,Y_train,Y_test=train_test_split(X,Y,test_size=0.2,random_state=0)\n",
    "print(Y_train)"
   ]
  },
  {
   "cell_type": "code",
   "execution_count": 8,
   "id": "2b2b5d7c",
   "metadata": {},
   "outputs": [],
   "source": [
    "def flatten(input):\n",
    "    new_list = []\n",
    "    for i in input:\n",
    "        for j in i:\n",
    "            new_list.append(j)\n",
    "    return new_list"
   ]
  },
  {
   "cell_type": "markdown",
   "id": "bb05b105",
   "metadata": {},
   "source": [
    "# Training model"
   ]
  },
  {
   "cell_type": "code",
   "execution_count": 9,
   "id": "8d300705",
   "metadata": {},
   "outputs": [
    {
     "data": {
      "text/plain": [
       "0.9614350402649715"
      ]
     },
     "execution_count": 9,
     "metadata": {},
     "output_type": "execute_result"
    }
   ],
   "source": [
    "from sklearn.ensemble import RandomForestRegressor\n",
    "# print(Y_train)\n",
    "classifier=RandomForestRegressor(n_estimators=100,random_state=0)\n",
    "classifier.fit(X_train,Y_train)\n",
    "classifier.score(X_train,Y_train)\n"
   ]
  },
  {
   "cell_type": "code",
   "execution_count": 19,
   "id": "b05d2245",
   "metadata": {},
   "outputs": [
    {
     "name": "stdout",
     "output_type": "stream",
     "text": [
      "0.9614350402649715\n",
      "[[ 1.91393196e-01]\n",
      " [-6.47435071e-02]\n",
      " [-9.63190414e-01]\n",
      " [-1.01845750e-01]\n",
      " [ 1.87814201e-01]\n",
      " [-5.89304794e-01]\n",
      " [-2.43008698e-02]\n",
      " [-6.33087826e-01]\n",
      " [-8.72911722e-02]\n",
      " [-2.17566570e-01]\n",
      " [-1.10611159e+00]\n",
      " [-5.48265658e-01]\n",
      " [ 1.22536469e+00]\n",
      " [-1.78674831e-01]\n",
      " [ 7.70474498e-01]\n",
      " [-7.71356312e-01]\n",
      " [-3.16824016e-01]\n",
      " [ 9.69077423e-02]\n",
      " [-6.31059729e-01]\n",
      " [ 8.87149717e-01]\n",
      " [-9.23105676e-01]\n",
      " [-1.24712397e+00]\n",
      " [-1.79779796e-02]\n",
      " [-6.30224631e-01]\n",
      " [ 1.50680692e-02]\n",
      " [-2.22935062e-01]\n",
      " [-3.32213692e-01]\n",
      " [ 2.53348717e+00]\n",
      " [ 1.94821623e-02]\n",
      " [ 7.01760931e+00]\n",
      " [ 1.39059494e+00]\n",
      " [-4.23239451e-01]\n",
      " [ 1.44046226e+00]\n",
      " [-6.79972653e-01]\n",
      " [-7.34969868e-01]\n",
      " [-7.52506941e-01]\n",
      " [-1.05039858e+00]\n",
      " [-2.03369892e-01]\n",
      " [ 4.12694353e-01]\n",
      " [-5.35381278e-01]\n",
      " [-2.07187486e-01]\n",
      " [ 2.43029283e+00]\n",
      " [-9.23702176e-01]\n",
      " [-6.30582530e-01]\n",
      " [-3.14795919e-01]\n",
      " [ 1.32760463e+00]\n",
      " [ 4.53702222e-02]\n",
      " [-1.02749301e+00]\n",
      " [ 1.92243351e+00]\n",
      " [ 1.43914996e+00]\n",
      " [ 1.32760463e+00]\n",
      " [-6.08392764e-01]\n",
      " [-4.76208569e-01]\n",
      " [-7.51671842e-01]\n",
      " [ 9.18525569e-01]\n",
      " [-4.30278140e-01]\n",
      " [-1.47418279e-01]\n",
      " [ 2.16207557e-01]\n",
      " [-9.39719618e-02]\n",
      " [-2.40114235e-01]\n",
      " [-2.22577162e-01]\n",
      " [ 1.37281926e+00]\n",
      " [ 2.44854570e+00]\n",
      " [-1.17712625e-01]\n",
      " [-5.78925710e-01]\n",
      " [-5.30489985e-01]\n",
      " [-5.80715207e-01]\n",
      " [ 1.60613844e-01]\n",
      " [-3.44382274e-01]\n",
      " [ 2.05616861e+00]\n",
      " [-4.43878319e-01]\n",
      " [-1.36831863e-02]\n",
      " [-3.78621321e-01]\n",
      " [-3.80172218e-01]\n",
      " [ 6.70827885e-02]\n",
      " [-3.94519463e-02]\n",
      " [ 1.75064178e+00]\n",
      " [-2.26275457e-01]\n",
      " [-7.58949131e-01]\n",
      " [-9.30144366e-01]\n",
      " [-7.82093295e-01]\n",
      " [-1.06340226e+00]\n",
      " [ 1.99079231e+00]\n",
      " [-2.67314593e-01]\n",
      " [-8.94712320e-01]\n",
      " [ 7.47926833e-01]\n",
      " [-2.70774288e-01]\n",
      " [ 1.20448723e+00]\n",
      " [-8.23967530e-01]\n",
      " [-8.74550652e-01]\n",
      " [ 1.43914996e+00]\n",
      " [-1.24901881e-02]\n",
      " [ 3.53011782e+00]\n",
      " [ 2.74846543e+00]\n",
      " [ 1.46539592e+00]\n",
      " [ 8.74503937e-01]\n",
      " [-3.88165306e-01]\n",
      " [-5.15100309e-01]\n",
      " [-4.38509828e-01]\n",
      " [ 2.99717428e-01]\n",
      " [-4.74061173e-01]\n",
      " [ 2.69295975e-01]\n",
      " [-2.66479494e-01]\n",
      " [-1.32744402e-01]\n",
      " [-1.80106428e-01]\n",
      " [ 2.83103486e-02]\n",
      " [ 1.36566128e+00]\n",
      " [ 1.08626111e+00]\n",
      " [-5.09359959e-03]\n",
      " [-1.12030827e+00]\n",
      " [ 1.80420740e+00]\n",
      " [-3.32332992e-01]\n",
      " [-7.91995180e-01]\n",
      " [-4.80145463e-01]\n",
      " [-8.82543739e-01]\n",
      " [ 3.98139775e-01]\n",
      " [-4.53660904e-01]\n",
      " [ 3.06460994e+00]\n",
      " [ 1.56644286e+00]\n",
      " [ 1.42578838e+00]\n",
      " [-2.12794578e-01]\n",
      " [-6.62196981e-01]\n",
      " [-7.65152721e-01]\n",
      " [-6.92737734e-01]\n",
      " [ 2.42325414e+00]\n",
      " [-3.52494661e-01]\n",
      " [-7.15643298e-01]\n",
      " [ 3.40279365e-01]\n",
      " [-5.49816555e-01]]\n"
     ]
    }
   ],
   "source": [
    "print(classifier.score(X_test,Y_test))\n",
    "\n",
    "print(Y_test)"
   ]
  },
  {
   "cell_type": "code",
   "execution_count": 11,
   "id": "77b6c90c",
   "metadata": {},
   "outputs": [
    {
     "name": "stdout",
     "output_type": "stream",
     "text": [
      "[[ 1.61663682e-01]\n",
      " [-1.10168354e-02]\n",
      " [-9.24428711e-01]\n",
      " [-5.89598521e-02]\n",
      " [-7.09840804e-02]\n",
      " [-5.74111962e-01]\n",
      " [-4.24776390e-03]\n",
      " [-6.26886622e-01]\n",
      " [-6.81864998e-02]\n",
      " [-2.03847091e-01]\n",
      " [-1.08147857e+00]\n",
      " [-5.07959022e-01]\n",
      " [ 1.33244582e+00]\n",
      " [-2.08221816e-01]\n",
      " [ 7.55463002e-01]\n",
      " [-6.67380558e-01]\n",
      " [-2.90210614e-01]\n",
      " [ 1.12153066e-01]\n",
      " [-5.83634474e-01]\n",
      " [ 8.84385541e-01]\n",
      " [-8.24206130e-01]\n",
      " [-1.26460498e+00]\n",
      " [-1.00015940e-02]\n",
      " [-6.60970579e-01]\n",
      " [ 8.08332852e-02]\n",
      " [-2.20083796e-01]\n",
      " [-2.99736704e-01]\n",
      " [ 2.31060171e+00]\n",
      " [ 9.06456950e-02]\n",
      " [ 4.87509678e+00]\n",
      " [ 1.31610652e+00]\n",
      " [-4.08866210e-01]\n",
      " [ 1.62323316e+00]\n",
      " [-6.60977737e-01]\n",
      " [-7.18884674e-01]\n",
      " [-7.25988978e-01]\n",
      " [-1.05719151e+00]\n",
      " [-1.96508960e-01]\n",
      " [ 4.09201254e-01]\n",
      " [-5.35905004e-01]\n",
      " [-2.22960115e-01]\n",
      " [ 2.39181386e+00]\n",
      " [-8.12393062e-01]\n",
      " [-5.95727896e-01]\n",
      " [-3.35402577e-01]\n",
      " [ 1.50385460e+00]\n",
      " [ 8.78194824e-02]\n",
      " [-9.95053009e-01]\n",
      " [ 1.77985830e+00]\n",
      " [ 8.68663018e-01]\n",
      " [ 1.50198756e+00]\n",
      " [-5.86171981e-01]\n",
      " [-4.73382357e-01]\n",
      " [-7.29373514e-01]\n",
      " [ 8.29045935e-01]\n",
      " [-4.18196648e-01]\n",
      " [-1.07261961e-01]\n",
      " [ 1.83491969e-01]\n",
      " [-1.41033353e-01]\n",
      " [-2.41415796e-01]\n",
      " [-3.04885684e-01]\n",
      " [ 1.31898045e+00]\n",
      " [ 2.44703059e+00]\n",
      " [-1.01180057e-01]\n",
      " [-5.51418752e-01]\n",
      " [-5.40889350e-01]\n",
      " [-5.66816779e-01]\n",
      " [ 1.17340222e-01]\n",
      " [-3.42973343e-01]\n",
      " [ 2.35222303e+00]\n",
      " [-4.27469823e-01]\n",
      " [-5.76702211e-02]\n",
      " [-4.27051080e-01]\n",
      " [-3.69043931e-01]\n",
      " [ 8.89790766e-02]\n",
      " [-7.25982069e-02]\n",
      " [ 1.70184696e+00]\n",
      " [-2.36925351e-01]\n",
      " [-7.29683693e-01]\n",
      " [-8.00564485e-01]\n",
      " [-7.96460572e-01]\n",
      " [-1.08363909e+00]\n",
      " [ 1.67796672e+00]\n",
      " [-2.33005159e-01]\n",
      " [-8.39704369e-01]\n",
      " [ 5.82710905e-01]\n",
      " [-2.59941865e-01]\n",
      " [ 1.46443675e+00]\n",
      " [-6.87464682e-01]\n",
      " [-8.67713579e-01]\n",
      " [ 8.62853117e-01]\n",
      " [-4.13595504e-02]\n",
      " [ 2.84084166e+00]\n",
      " [ 2.57739427e+00]\n",
      " [ 1.60002338e+00]\n",
      " [ 8.74740150e-01]\n",
      " [-3.75085274e-01]\n",
      " [-5.07582035e-01]\n",
      " [-4.53944838e-01]\n",
      " [ 3.04120784e-01]\n",
      " [-4.72495959e-01]\n",
      " [ 2.28126802e-01]\n",
      " [-2.79308997e-01]\n",
      " [-1.33126161e-01]\n",
      " [-1.78612795e-01]\n",
      " [ 2.22093561e-02]\n",
      " [ 1.22839849e+00]\n",
      " [ 1.28901353e+00]\n",
      " [ 1.84132360e-02]\n",
      " [-1.08903979e+00]\n",
      " [ 1.78770465e+00]\n",
      " [-3.47641545e-01]\n",
      " [-8.25530358e-01]\n",
      " [-4.85568833e-01]\n",
      " [-7.65980662e-01]\n",
      " [ 4.96495315e-01]\n",
      " [-4.42580337e-01]\n",
      " [ 2.56619798e+00]\n",
      " [ 1.43884217e+00]\n",
      " [ 1.46516209e+00]\n",
      " [-2.05616308e-01]\n",
      " [-6.35356909e-01]\n",
      " [-7.86064786e-01]\n",
      " [-7.07726562e-01]\n",
      " [ 2.47100269e+00]\n",
      " [-3.37342392e-01]\n",
      " [-7.16223095e-01]\n",
      " [ 3.82636764e-01]\n",
      " [-5.42565512e-01]]\n",
      "[[ 1.91393196e-01]\n",
      " [-6.47435071e-02]\n",
      " [-9.63190414e-01]\n",
      " [-1.01845750e-01]\n",
      " [ 1.87814201e-01]\n",
      " [-5.89304794e-01]\n",
      " [-2.43008698e-02]\n",
      " [-6.33087826e-01]\n",
      " [-8.72911722e-02]\n",
      " [-2.17566570e-01]\n",
      " [-1.10611159e+00]\n",
      " [-5.48265658e-01]\n",
      " [ 1.22536469e+00]\n",
      " [-1.78674831e-01]\n",
      " [ 7.70474498e-01]\n",
      " [-7.71356312e-01]\n",
      " [-3.16824016e-01]\n",
      " [ 9.69077423e-02]\n",
      " [-6.31059729e-01]\n",
      " [ 8.87149717e-01]\n",
      " [-9.23105676e-01]\n",
      " [-1.24712397e+00]\n",
      " [-1.79779796e-02]\n",
      " [-6.30224631e-01]\n",
      " [ 1.50680692e-02]\n",
      " [-2.22935062e-01]\n",
      " [-3.32213692e-01]\n",
      " [ 2.53348717e+00]\n",
      " [ 1.94821623e-02]\n",
      " [ 7.01760931e+00]\n",
      " [ 1.39059494e+00]\n",
      " [-4.23239451e-01]\n",
      " [ 1.44046226e+00]\n",
      " [-6.79972653e-01]\n",
      " [-7.34969868e-01]\n",
      " [-7.52506941e-01]\n",
      " [-1.05039858e+00]\n",
      " [-2.03369892e-01]\n",
      " [ 4.12694353e-01]\n",
      " [-5.35381278e-01]\n",
      " [-2.07187486e-01]\n",
      " [ 2.43029283e+00]\n",
      " [-9.23702176e-01]\n",
      " [-6.30582530e-01]\n",
      " [-3.14795919e-01]\n",
      " [ 1.32760463e+00]\n",
      " [ 4.53702222e-02]\n",
      " [-1.02749301e+00]\n",
      " [ 1.92243351e+00]\n",
      " [ 1.43914996e+00]\n",
      " [ 1.32760463e+00]\n",
      " [-6.08392764e-01]\n",
      " [-4.76208569e-01]\n",
      " [-7.51671842e-01]\n",
      " [ 9.18525569e-01]\n",
      " [-4.30278140e-01]\n",
      " [-1.47418279e-01]\n",
      " [ 2.16207557e-01]\n",
      " [-9.39719618e-02]\n",
      " [-2.40114235e-01]\n",
      " [-2.22577162e-01]\n",
      " [ 1.37281926e+00]\n",
      " [ 2.44854570e+00]\n",
      " [-1.17712625e-01]\n",
      " [-5.78925710e-01]\n",
      " [-5.30489985e-01]\n",
      " [-5.80715207e-01]\n",
      " [ 1.60613844e-01]\n",
      " [-3.44382274e-01]\n",
      " [ 2.05616861e+00]\n",
      " [-4.43878319e-01]\n",
      " [-1.36831863e-02]\n",
      " [-3.78621321e-01]\n",
      " [-3.80172218e-01]\n",
      " [ 6.70827885e-02]\n",
      " [-3.94519463e-02]\n",
      " [ 1.75064178e+00]\n",
      " [-2.26275457e-01]\n",
      " [-7.58949131e-01]\n",
      " [-9.30144366e-01]\n",
      " [-7.82093295e-01]\n",
      " [-1.06340226e+00]\n",
      " [ 1.99079231e+00]\n",
      " [-2.67314593e-01]\n",
      " [-8.94712320e-01]\n",
      " [ 7.47926833e-01]\n",
      " [-2.70774288e-01]\n",
      " [ 1.20448723e+00]\n",
      " [-8.23967530e-01]\n",
      " [-8.74550652e-01]\n",
      " [ 1.43914996e+00]\n",
      " [-1.24901881e-02]\n",
      " [ 3.53011782e+00]\n",
      " [ 2.74846543e+00]\n",
      " [ 1.46539592e+00]\n",
      " [ 8.74503937e-01]\n",
      " [-3.88165306e-01]\n",
      " [-5.15100309e-01]\n",
      " [-4.38509828e-01]\n",
      " [ 2.99717428e-01]\n",
      " [-4.74061173e-01]\n",
      " [ 2.69295975e-01]\n",
      " [-2.66479494e-01]\n",
      " [-1.32744402e-01]\n",
      " [-1.80106428e-01]\n",
      " [ 2.83103486e-02]\n",
      " [ 1.36566128e+00]\n",
      " [ 1.08626111e+00]\n",
      " [-5.09359959e-03]\n",
      " [-1.12030827e+00]\n",
      " [ 1.80420740e+00]\n",
      " [-3.32332992e-01]\n",
      " [-7.91995180e-01]\n",
      " [-4.80145463e-01]\n",
      " [-8.82543739e-01]\n",
      " [ 3.98139775e-01]\n",
      " [-4.53660904e-01]\n",
      " [ 3.06460994e+00]\n",
      " [ 1.56644286e+00]\n",
      " [ 1.42578838e+00]\n",
      " [-2.12794578e-01]\n",
      " [-6.62196981e-01]\n",
      " [-7.65152721e-01]\n",
      " [-6.92737734e-01]\n",
      " [ 2.42325414e+00]\n",
      " [-3.52494661e-01]\n",
      " [-7.15643298e-01]\n",
      " [ 3.40279365e-01]\n",
      " [-5.49816555e-01]]\n"
     ]
    }
   ],
   "source": [
    "Y_pred=classifier.predict(X_test)\n",
    "Y_pred=Y_pred.reshape(-1,1)\n",
    "print(Y_pred)\n",
    "Y_test=Y_test.reshape(-1,1)\n",
    "print(Y_test)\n"
   ]
  },
  {
   "cell_type": "markdown",
   "id": "065dbb72",
   "metadata": {},
   "source": [
    "### If we want to encode your data as prevous then you have to write code like :-\n",
    "### Y_pred=lel(Or any object you used).inverse_transform(Y_pred)"
   ]
  },
  {
   "cell_type": "code",
   "execution_count": null,
   "id": "ba0ff0fb",
   "metadata": {},
   "outputs": [],
   "source": []
  },
  {
   "cell_type": "markdown",
   "id": "26b2bfdc",
   "metadata": {},
   "source": [
    "# make table and concatenate"
   ]
  },
  {
   "cell_type": "code",
   "execution_count": 12,
   "id": "202d2f7b",
   "metadata": {},
   "outputs": [
    {
     "name": "stdout",
     "output_type": "stream",
     "text": [
      "     Rain on Tommorow  Prediction of Rain\n",
      "0            0.191393            0.161664\n",
      "1           -0.064744           -0.011017\n",
      "2           -0.963190           -0.924429\n",
      "3           -0.101846           -0.058960\n",
      "4            0.187814           -0.070984\n",
      "..                ...                 ...\n",
      "124          2.423254            2.471003\n",
      "125         -0.352495           -0.337342\n",
      "126         -0.715643           -0.716223\n",
      "127          0.340279            0.382637\n",
      "128         -0.549817           -0.542566\n",
      "\n",
      "[129 rows x 2 columns]\n"
     ]
    }
   ],
   "source": [
    "df=np.concatenate((Y_test,Y_pred),axis=1)\n",
    "dataframe=pd.DataFrame(df,columns=['Rain on Tommorow',\"Prediction of Rain\"])\n",
    "print(dataframe)"
   ]
  },
  {
   "cell_type": "markdown",
   "id": "7b1d5fb8",
   "metadata": {},
   "source": [
    "# If we want to convert into csv file"
   ]
  },
  {
   "cell_type": "code",
   "execution_count": 13,
   "id": "ce03b921",
   "metadata": {},
   "outputs": [],
   "source": [
    "dataframe.to_csv('Rain Prediction.csv')"
   ]
  },
  {
   "cell_type": "markdown",
   "id": "00dfb118",
   "metadata": {},
   "source": [
    "# Calculating Accuracy of prediction"
   ]
  },
  {
   "cell_type": "code",
   "execution_count": 14,
   "id": "f2d86e32",
   "metadata": {},
   "outputs": [
    {
     "data": {
      "text/plain": [
       "0.9614350402649715"
      ]
     },
     "execution_count": 14,
     "metadata": {},
     "output_type": "execute_result"
    }
   ],
   "source": [
    "from sklearn.metrics import r2_score\n",
    "r2_score(Y_test,Y_pred)"
   ]
  },
  {
   "cell_type": "markdown",
   "id": "2c7f3ec7",
   "metadata": {},
   "source": [
    "# Plot or graphically visualization Prediction vs Test Data"
   ]
  },
  {
   "cell_type": "code",
   "execution_count": 15,
   "id": "99cd62f3",
   "metadata": {},
   "outputs": [
    {
     "data": {
      "image/png": "[encoded data removed]",
      "text/plain": [
       "<Figure size 640x480 with 1 Axes>"
      ]
     },
     "metadata": {},
     "output_type": "display_data"
    }
   ],
   "source": [
    "import matplotlib.pyplot as plt\n",
    "# plt.plot(Y_test,Y_pred)\n",
    "plt.scatter(Y_test,Y_pred)\n",
    "# plt.bar(Y_test,Y_pred)\n",
    "plt.show()"
   ]
  },
  {
   "cell_type": "code",
   "execution_count": 16,
   "id": "a7453b4d",
   "metadata": {},
   "outputs": [],
   "source": [
    "# y=Y_pred.ravel()\n",
    "# plt.pie(y)"
   ]
  },
  {
   "cell_type": "markdown",
   "id": "fce441f2",
   "metadata": {},
   "source": [
    "# Prediction for one input value"
   ]
  },
  {
   "cell_type": "code",
   "execution_count": 25,
   "id": "fe2a1c7b",
   "metadata": {},
   "outputs": [
    {
     "name": "stdout",
     "output_type": "stream",
     "text": [
      "[5.00922317]\n"
     ]
    }
   ],
   "source": [
    "input_data=(0,423,107.3,57.9,65.2,117,358.5,295.5,285,271.9,354.8,326,315.2,250.9,165.2,540.7,1207.2,892.1\n",
    ")\n",
    "# change data into array\n",
    "arrayed_data=np.asarray(input_data)\n",
    "# reshape the array as we are predicting for only one intance\n",
    "arraye_data_reshaped=arrayed_data.reshape(1,-1)\n",
    "prediction=classifier.predict(arraye_data_reshaped)\n",
    "print(prediction)\n"
   ]
  },
  {
   "cell_type": "code",
   "execution_count": null,
   "id": "d10bae31",
   "metadata": {},
   "outputs": [],
   "source": []
  }
 ],
 "metadata": {
  "kernelspec": {
   "display_name": "Python 3 (ipykernel)",
   "language": "python",
   "name": "python3"
  },
  "language_info": {
   "codemirror_mode": {
    "name": "ipython",
    "version": 3
   },
   "file_extension": ".py",
   "mimetype": "text/x-python",
   "name": "python",
   "nbconvert_exporter": "python",
   "pygments_lexer": "ipython3",
   "version": "3.9.13"
  }
 },
 "nbformat": 4,
 "nbformat_minor": 5
}
